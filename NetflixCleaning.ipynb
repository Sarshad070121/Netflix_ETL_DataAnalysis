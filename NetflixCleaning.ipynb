{
 "cells": [
  {
   "cell_type": "markdown",
   "id": "ddb6d17e-b24e-4c5f-a335-68b1716de97f",
   "metadata": {},
   "source": [
    "#### Import Libraries"
   ]
  },
  {
   "cell_type": "code",
   "execution_count": 1,
   "id": "6f0acdd4-1a10-420b-b768-c394b4efc96a",
   "metadata": {},
   "outputs": [],
   "source": [
    "import pandas as pd\n",
    "import numpy as np"
   ]
  },
  {
   "cell_type": "markdown",
   "id": "14a5366a-6c4a-4d92-9d96-3c24192b7364",
   "metadata": {},
   "source": [
    "#### Loading the data"
   ]
  },
  {
   "cell_type": "code",
   "execution_count": 2,
   "id": "bf908db9-a899-4a58-a9ae-6be36e5eb242",
   "metadata": {},
   "outputs": [
    {
     "data": {
      "text/html": [
       "<div>\n",
       "<style scoped>\n",
       "    .dataframe tbody tr th:only-of-type {\n",
       "        vertical-align: middle;\n",
       "    }\n",
       "\n",
       "    .dataframe tbody tr th {\n",
       "        vertical-align: top;\n",
       "    }\n",
       "\n",
       "    .dataframe thead th {\n",
       "        text-align: right;\n",
       "    }\n",
       "</style>\n",
       "<table border=\"1\" class=\"dataframe\">\n",
       "  <thead>\n",
       "    <tr style=\"text-align: right;\">\n",
       "      <th></th>\n",
       "      <th>show_id</th>\n",
       "      <th>type</th>\n",
       "      <th>title</th>\n",
       "      <th>director</th>\n",
       "      <th>cast</th>\n",
       "      <th>country</th>\n",
       "      <th>date_added</th>\n",
       "      <th>release_year</th>\n",
       "      <th>rating</th>\n",
       "      <th>duration</th>\n",
       "      <th>listed_in</th>\n",
       "      <th>description</th>\n",
       "    </tr>\n",
       "  </thead>\n",
       "  <tbody>\n",
       "    <tr>\n",
       "      <th>0</th>\n",
       "      <td>s1</td>\n",
       "      <td>Movie</td>\n",
       "      <td>Dick Johnson Is Dead</td>\n",
       "      <td>Kirsten Johnson</td>\n",
       "      <td>NaN</td>\n",
       "      <td>United States</td>\n",
       "      <td>September 25, 2021</td>\n",
       "      <td>2020</td>\n",
       "      <td>PG-13</td>\n",
       "      <td>90 min</td>\n",
       "      <td>Documentaries</td>\n",
       "      <td>As her father nears the end of his life, filmm...</td>\n",
       "    </tr>\n",
       "    <tr>\n",
       "      <th>1</th>\n",
       "      <td>s2</td>\n",
       "      <td>TV Show</td>\n",
       "      <td>Blood &amp; Water</td>\n",
       "      <td>NaN</td>\n",
       "      <td>Ama Qamata, Khosi Ngema, Gail Mabalane, Thaban...</td>\n",
       "      <td>South Africa</td>\n",
       "      <td>September 24, 2021</td>\n",
       "      <td>2021</td>\n",
       "      <td>TV-MA</td>\n",
       "      <td>2 Seasons</td>\n",
       "      <td>International TV Shows, TV Dramas, TV Mysteries</td>\n",
       "      <td>After crossing paths at a party, a Cape Town t...</td>\n",
       "    </tr>\n",
       "    <tr>\n",
       "      <th>2</th>\n",
       "      <td>s3</td>\n",
       "      <td>TV Show</td>\n",
       "      <td>Ganglands</td>\n",
       "      <td>Julien Leclercq</td>\n",
       "      <td>Sami Bouajila, Tracy Gotoas, Samuel Jouy, Nabi...</td>\n",
       "      <td>NaN</td>\n",
       "      <td>September 24, 2021</td>\n",
       "      <td>2021</td>\n",
       "      <td>TV-MA</td>\n",
       "      <td>1 Season</td>\n",
       "      <td>Crime TV Shows, International TV Shows, TV Act...</td>\n",
       "      <td>To protect his family from a powerful drug lor...</td>\n",
       "    </tr>\n",
       "    <tr>\n",
       "      <th>3</th>\n",
       "      <td>s4</td>\n",
       "      <td>TV Show</td>\n",
       "      <td>Jailbirds New Orleans</td>\n",
       "      <td>NaN</td>\n",
       "      <td>NaN</td>\n",
       "      <td>NaN</td>\n",
       "      <td>September 24, 2021</td>\n",
       "      <td>2021</td>\n",
       "      <td>TV-MA</td>\n",
       "      <td>1 Season</td>\n",
       "      <td>Docuseries, Reality TV</td>\n",
       "      <td>Feuds, flirtations and toilet talk go down amo...</td>\n",
       "    </tr>\n",
       "    <tr>\n",
       "      <th>4</th>\n",
       "      <td>s5</td>\n",
       "      <td>TV Show</td>\n",
       "      <td>Kota Factory</td>\n",
       "      <td>NaN</td>\n",
       "      <td>Mayur More, Jitendra Kumar, Ranjan Raj, Alam K...</td>\n",
       "      <td>India</td>\n",
       "      <td>September 24, 2021</td>\n",
       "      <td>2021</td>\n",
       "      <td>TV-MA</td>\n",
       "      <td>2 Seasons</td>\n",
       "      <td>International TV Shows, Romantic TV Shows, TV ...</td>\n",
       "      <td>In a city of coaching centers known to train I...</td>\n",
       "    </tr>\n",
       "    <tr>\n",
       "      <th>...</th>\n",
       "      <td>...</td>\n",
       "      <td>...</td>\n",
       "      <td>...</td>\n",
       "      <td>...</td>\n",
       "      <td>...</td>\n",
       "      <td>...</td>\n",
       "      <td>...</td>\n",
       "      <td>...</td>\n",
       "      <td>...</td>\n",
       "      <td>...</td>\n",
       "      <td>...</td>\n",
       "      <td>...</td>\n",
       "    </tr>\n",
       "    <tr>\n",
       "      <th>8802</th>\n",
       "      <td>s8803</td>\n",
       "      <td>Movie</td>\n",
       "      <td>Zodiac</td>\n",
       "      <td>David Fincher</td>\n",
       "      <td>Mark Ruffalo, Jake Gyllenhaal, Robert Downey J...</td>\n",
       "      <td>United States</td>\n",
       "      <td>November 20, 2019</td>\n",
       "      <td>2007</td>\n",
       "      <td>R</td>\n",
       "      <td>158 min</td>\n",
       "      <td>Cult Movies, Dramas, Thrillers</td>\n",
       "      <td>A political cartoonist, a crime reporter and a...</td>\n",
       "    </tr>\n",
       "    <tr>\n",
       "      <th>8803</th>\n",
       "      <td>s8804</td>\n",
       "      <td>TV Show</td>\n",
       "      <td>Zombie Dumb</td>\n",
       "      <td>NaN</td>\n",
       "      <td>NaN</td>\n",
       "      <td>NaN</td>\n",
       "      <td>July 1, 2019</td>\n",
       "      <td>2018</td>\n",
       "      <td>TV-Y7</td>\n",
       "      <td>2 Seasons</td>\n",
       "      <td>Kids' TV, Korean TV Shows, TV Comedies</td>\n",
       "      <td>While living alone in a spooky town, a young g...</td>\n",
       "    </tr>\n",
       "    <tr>\n",
       "      <th>8804</th>\n",
       "      <td>s8805</td>\n",
       "      <td>Movie</td>\n",
       "      <td>Zombieland</td>\n",
       "      <td>Ruben Fleischer</td>\n",
       "      <td>Jesse Eisenberg, Woody Harrelson, Emma Stone, ...</td>\n",
       "      <td>United States</td>\n",
       "      <td>November 1, 2019</td>\n",
       "      <td>2009</td>\n",
       "      <td>R</td>\n",
       "      <td>88 min</td>\n",
       "      <td>Comedies, Horror Movies</td>\n",
       "      <td>Looking to survive in a world taken over by zo...</td>\n",
       "    </tr>\n",
       "    <tr>\n",
       "      <th>8805</th>\n",
       "      <td>s8806</td>\n",
       "      <td>Movie</td>\n",
       "      <td>Zoom</td>\n",
       "      <td>Peter Hewitt</td>\n",
       "      <td>Tim Allen, Courteney Cox, Chevy Chase, Kate Ma...</td>\n",
       "      <td>United States</td>\n",
       "      <td>January 11, 2020</td>\n",
       "      <td>2006</td>\n",
       "      <td>PG</td>\n",
       "      <td>88 min</td>\n",
       "      <td>Children &amp; Family Movies, Comedies</td>\n",
       "      <td>Dragged from civilian life, a former superhero...</td>\n",
       "    </tr>\n",
       "    <tr>\n",
       "      <th>8806</th>\n",
       "      <td>s8807</td>\n",
       "      <td>Movie</td>\n",
       "      <td>Zubaan</td>\n",
       "      <td>Mozez Singh</td>\n",
       "      <td>Vicky Kaushal, Sarah-Jane Dias, Raaghav Chanan...</td>\n",
       "      <td>India</td>\n",
       "      <td>March 2, 2019</td>\n",
       "      <td>2015</td>\n",
       "      <td>TV-14</td>\n",
       "      <td>111 min</td>\n",
       "      <td>Dramas, International Movies, Music &amp; Musicals</td>\n",
       "      <td>A scrappy but poor boy worms his way into a ty...</td>\n",
       "    </tr>\n",
       "  </tbody>\n",
       "</table>\n",
       "<p>8807 rows × 12 columns</p>\n",
       "</div>"
      ],
      "text/plain": [
       "     show_id     type                  title         director  \\\n",
       "0         s1    Movie   Dick Johnson Is Dead  Kirsten Johnson   \n",
       "1         s2  TV Show          Blood & Water              NaN   \n",
       "2         s3  TV Show              Ganglands  Julien Leclercq   \n",
       "3         s4  TV Show  Jailbirds New Orleans              NaN   \n",
       "4         s5  TV Show           Kota Factory              NaN   \n",
       "...      ...      ...                    ...              ...   \n",
       "8802   s8803    Movie                 Zodiac    David Fincher   \n",
       "8803   s8804  TV Show            Zombie Dumb              NaN   \n",
       "8804   s8805    Movie             Zombieland  Ruben Fleischer   \n",
       "8805   s8806    Movie                   Zoom     Peter Hewitt   \n",
       "8806   s8807    Movie                 Zubaan      Mozez Singh   \n",
       "\n",
       "                                                   cast        country  \\\n",
       "0                                                   NaN  United States   \n",
       "1     Ama Qamata, Khosi Ngema, Gail Mabalane, Thaban...   South Africa   \n",
       "2     Sami Bouajila, Tracy Gotoas, Samuel Jouy, Nabi...            NaN   \n",
       "3                                                   NaN            NaN   \n",
       "4     Mayur More, Jitendra Kumar, Ranjan Raj, Alam K...          India   \n",
       "...                                                 ...            ...   \n",
       "8802  Mark Ruffalo, Jake Gyllenhaal, Robert Downey J...  United States   \n",
       "8803                                                NaN            NaN   \n",
       "8804  Jesse Eisenberg, Woody Harrelson, Emma Stone, ...  United States   \n",
       "8805  Tim Allen, Courteney Cox, Chevy Chase, Kate Ma...  United States   \n",
       "8806  Vicky Kaushal, Sarah-Jane Dias, Raaghav Chanan...          India   \n",
       "\n",
       "              date_added  release_year rating   duration  \\\n",
       "0     September 25, 2021          2020  PG-13     90 min   \n",
       "1     September 24, 2021          2021  TV-MA  2 Seasons   \n",
       "2     September 24, 2021          2021  TV-MA   1 Season   \n",
       "3     September 24, 2021          2021  TV-MA   1 Season   \n",
       "4     September 24, 2021          2021  TV-MA  2 Seasons   \n",
       "...                  ...           ...    ...        ...   \n",
       "8802   November 20, 2019          2007      R    158 min   \n",
       "8803        July 1, 2019          2018  TV-Y7  2 Seasons   \n",
       "8804    November 1, 2019          2009      R     88 min   \n",
       "8805    January 11, 2020          2006     PG     88 min   \n",
       "8806       March 2, 2019          2015  TV-14    111 min   \n",
       "\n",
       "                                              listed_in  \\\n",
       "0                                         Documentaries   \n",
       "1       International TV Shows, TV Dramas, TV Mysteries   \n",
       "2     Crime TV Shows, International TV Shows, TV Act...   \n",
       "3                                Docuseries, Reality TV   \n",
       "4     International TV Shows, Romantic TV Shows, TV ...   \n",
       "...                                                 ...   \n",
       "8802                     Cult Movies, Dramas, Thrillers   \n",
       "8803             Kids' TV, Korean TV Shows, TV Comedies   \n",
       "8804                            Comedies, Horror Movies   \n",
       "8805                 Children & Family Movies, Comedies   \n",
       "8806     Dramas, International Movies, Music & Musicals   \n",
       "\n",
       "                                            description  \n",
       "0     As her father nears the end of his life, filmm...  \n",
       "1     After crossing paths at a party, a Cape Town t...  \n",
       "2     To protect his family from a powerful drug lor...  \n",
       "3     Feuds, flirtations and toilet talk go down amo...  \n",
       "4     In a city of coaching centers known to train I...  \n",
       "...                                                 ...  \n",
       "8802  A political cartoonist, a crime reporter and a...  \n",
       "8803  While living alone in a spooky town, a young g...  \n",
       "8804  Looking to survive in a world taken over by zo...  \n",
       "8805  Dragged from civilian life, a former superhero...  \n",
       "8806  A scrappy but poor boy worms his way into a ty...  \n",
       "\n",
       "[8807 rows x 12 columns]"
      ]
     },
     "execution_count": 2,
     "metadata": {},
     "output_type": "execute_result"
    }
   ],
   "source": [
    "nf_data = pd.read_csv(r\"C:\\Users\\shaik\\OneDrive\\Desktop\\SQL\\Netflix_ETL\\Netflix_data.csv\")\n",
    "nf_data"
   ]
  },
  {
   "cell_type": "code",
   "execution_count": 3,
   "id": "a0bad900-12ce-415e-98aa-7caff6f211e4",
   "metadata": {},
   "outputs": [
    {
     "data": {
      "text/plain": [
       "(8807, 12)"
      ]
     },
     "execution_count": 3,
     "metadata": {},
     "output_type": "execute_result"
    }
   ],
   "source": [
    "nf_data.shape"
   ]
  },
  {
   "cell_type": "code",
   "execution_count": 4,
   "id": "082898f5-7e60-4ccb-8be7-e46421b01174",
   "metadata": {},
   "outputs": [
    {
     "data": {
      "text/plain": [
       "show_id            0\n",
       "type               0\n",
       "title              0\n",
       "director        2634\n",
       "cast             825\n",
       "country          831\n",
       "date_added        10\n",
       "release_year       0\n",
       "rating             4\n",
       "duration           3\n",
       "listed_in          0\n",
       "description        0\n",
       "dtype: int64"
      ]
     },
     "execution_count": 4,
     "metadata": {},
     "output_type": "execute_result"
    }
   ],
   "source": [
    "nf_data.isnull().sum()"
   ]
  },
  {
   "cell_type": "code",
   "execution_count": 5,
   "id": "cf8234b9-dcba-4e45-be70-3fb4e40682ba",
   "metadata": {},
   "outputs": [],
   "source": [
    "for col in ['director', 'cast', 'country', 'rating']:\n",
    "    nf_data[col] = nf_data[col].fillna('Unknown')"
   ]
  },
  {
   "cell_type": "code",
   "execution_count": 6,
   "id": "673b48c7-2bb5-40c2-9f0a-adc86ebf8b5d",
   "metadata": {},
   "outputs": [],
   "source": [
    "nf_data.dropna(inplace=True)"
   ]
  },
  {
   "cell_type": "code",
   "execution_count": 7,
   "id": "1b6144ff-f443-44bd-9ba9-d07aea5c948b",
   "metadata": {},
   "outputs": [
    {
     "data": {
      "text/plain": [
       "(8794, 12)"
      ]
     },
     "execution_count": 7,
     "metadata": {},
     "output_type": "execute_result"
    }
   ],
   "source": [
    "nf_data = nf_data.drop_duplicates()\n",
    "nf_data.shape"
   ]
  },
  {
   "cell_type": "code",
   "execution_count": 8,
   "id": "79b4c3a2-9de6-4152-befb-3ccd9e55dcf3",
   "metadata": {},
   "outputs": [],
   "source": [
    "for col in ['title', 'director', 'cast', 'country', 'rating', 'listed_in', 'description']:\n",
    "    nf_data[col] = nf_data[col].astype(str).str.strip()"
   ]
  },
  {
   "cell_type": "code",
   "execution_count": 9,
   "id": "579360c1-2eaa-489a-9219-a7465f98ba6d",
   "metadata": {},
   "outputs": [],
   "source": [
    "nf_data['date_added'] = pd.to_datetime(nf_data['date_added'], errors='coerce')\n",
    "nf_data['year_added'] = nf_data['date_added'].dt.year\n",
    "nf_data['month_added'] = nf_data['date_added'].dt.month"
   ]
  },
  {
   "cell_type": "code",
   "execution_count": 10,
   "id": "87ef0342-b848-45d5-8e1f-07ace409f66a",
   "metadata": {},
   "outputs": [],
   "source": [
    "nf_data['duration_num'] = nf_data['duration'].str.extract('(\\d+)').astype('float')\n",
    "nf_data['duration_type'] = nf_data['duration'].str.extract('([A-Za-z]+)')"
   ]
  },
  {
   "cell_type": "code",
   "execution_count": 11,
   "id": "79f60c64-e848-4a38-922f-5c8920fd50b3",
   "metadata": {},
   "outputs": [],
   "source": [
    "nf_data['release_year'] = pd.to_numeric(nf_data['release_year'], errors='coerce').astype('Int64')"
   ]
  },
  {
   "cell_type": "code",
   "execution_count": 12,
   "id": "a1497fb2-5cb5-476d-a25d-c6e60ad5c15c",
   "metadata": {},
   "outputs": [
    {
     "name": "stdout",
     "output_type": "stream",
     "text": [
      "<class 'pandas.core.frame.DataFrame'>\n",
      "Index: 8794 entries, 0 to 8806\n",
      "Data columns (total 16 columns):\n",
      " #   Column         Non-Null Count  Dtype         \n",
      "---  ------         --------------  -----         \n",
      " 0   show_id        8794 non-null   object        \n",
      " 1   type           8794 non-null   object        \n",
      " 2   title          8794 non-null   object        \n",
      " 3   director       8794 non-null   object        \n",
      " 4   cast           8794 non-null   object        \n",
      " 5   country        8794 non-null   object        \n",
      " 6   date_added     8706 non-null   datetime64[ns]\n",
      " 7   release_year   8794 non-null   Int64         \n",
      " 8   rating         8794 non-null   object        \n",
      " 9   duration       8794 non-null   object        \n",
      " 10  listed_in      8794 non-null   object        \n",
      " 11  description    8794 non-null   object        \n",
      " 12  year_added     8706 non-null   float64       \n",
      " 13  month_added    8706 non-null   float64       \n",
      " 14  duration_num   8794 non-null   float64       \n",
      " 15  duration_type  8794 non-null   object        \n",
      "dtypes: Int64(1), datetime64[ns](1), float64(3), object(11)\n",
      "memory usage: 1.1+ MB\n"
     ]
    }
   ],
   "source": [
    "nf_data.info()"
   ]
  },
  {
   "cell_type": "code",
   "execution_count": 13,
   "id": "4c60a7e3-6d13-4fe4-a5e9-0935019cc54b",
   "metadata": {},
   "outputs": [],
   "source": [
    "nf_data['genres_list'] = nf_data['listed_in'].apply(lambda x: [g.strip() for g in x.split(',')])"
   ]
  },
  {
   "cell_type": "code",
   "execution_count": 14,
   "id": "bab71063-4e58-4b89-90ba-c2636670da3b",
   "metadata": {},
   "outputs": [],
   "source": [
    "genres_exploded = nf_data[['show_id', 'genres_list']].explode('genres_list')\n",
    "genres_exploded['genres_list'] = genres_exploded['genres_list'].str.strip()"
   ]
  },
  {
   "cell_type": "code",
   "execution_count": 15,
   "id": "b6b4d90b-9e1d-46d4-acab-e5e3c252b892",
   "metadata": {},
   "outputs": [],
   "source": [
    "unique_genres = pd.DataFrame(genres_exploded['genres_list'].unique(), columns=['genre_name'])\n",
    "unique_genres['genre_id'] = unique_genres.index + 1\n",
    "show_genre_mapping = genres_exploded.merge(unique_genres, left_on='genres_list', right_on='genre_name', how='left')\n",
    "show_genre_mapping_final = show_genre_mapping[['show_id', 'genre_id']]\n"
   ]
  },
  {
   "cell_type": "code",
   "execution_count": 16,
   "id": "57943bce-27ee-40bb-82d4-eca230f640fe",
   "metadata": {},
   "outputs": [],
   "source": [
    "nf_data['cast_list'] = nf_data['cast'].apply(lambda x: [actor.strip() for actor in x.split(',')])\n",
    "cast_exploded = nf_data[['show_id', 'cast_list']].explode('cast_list')\n",
    "unique_actors = pd.DataFrame(cast_exploded['cast_list'].unique(), columns=['actor_name'])\n",
    "unique_actors['actor_id'] = unique_actors.index + 1\n",
    "show_actor_mapping = cast_exploded.merge(unique_actors, left_on='cast_list', right_on='actor_name', how='left')\n",
    "show_actor_mapping_final = show_actor_mapping[['show_id', 'actor_id']]\n"
   ]
  },
  {
   "cell_type": "code",
   "execution_count": 17,
   "id": "1764f7d9-f68a-4db0-83ae-9763730689ec",
   "metadata": {},
   "outputs": [],
   "source": [
    "nf_data['director_list'] = nf_data['director'].apply(lambda x: [d.strip() for d in x.split(',')])\n",
    "director_exploded = nf_data[['show_id', 'director_list']].explode('director_list')\n",
    "unique_directors = pd.DataFrame(director_exploded['director_list'].unique(), columns=['director_name'])\n",
    "unique_directors['director_id'] = unique_directors.index + 1\n",
    "show_director_mapping = director_exploded.merge(unique_directors, left_on='director_list', right_on='director_name', how='left')\n",
    "show_director_mapping_final = show_director_mapping[['show_id', 'director_id']]"
   ]
  },
  {
   "cell_type": "code",
   "execution_count": 18,
   "id": "f6980b06-ed4d-4dfc-bfb9-b8f15fa67589",
   "metadata": {},
   "outputs": [],
   "source": [
    "nf_data.drop(['listed_in', 'cast', 'genres_list', 'cast_list', 'director_list', 'director', 'description', 'duration'], axis=1, inplace=True)\n",
    "nf_data.to_csv(\"netflix_cleaned.csv\", index=False)"
   ]
  },
  {
   "cell_type": "code",
   "execution_count": 19,
   "id": "90b66501-0fa2-4d8b-9530-199aef25e15a",
   "metadata": {},
   "outputs": [],
   "source": [
    "unique_genres.to_csv('genres_table.csv', index=False)\n",
    "show_genre_mapping_final.to_csv('show_genre_mapping.csv', index=False)\n",
    "\n",
    "unique_actors.to_csv('actors_table.csv', index=False)\n",
    "show_actor_mapping_final.to_csv('show_actor_mapping.csv', index=False)\n",
    "\n",
    "unique_directors.to_csv('directors_table.csv', index=False)\n",
    "show_director_mapping_final.to_csv('show_director_mapping.csv', index=False)"
   ]
  }
 ],
 "metadata": {
  "kernelspec": {
   "display_name": "Python [conda env:base] *",
   "language": "python",
   "name": "conda-base-py"
  },
  "language_info": {
   "codemirror_mode": {
    "name": "ipython",
    "version": 3
   },
   "file_extension": ".py",
   "mimetype": "text/x-python",
   "name": "python",
   "nbconvert_exporter": "python",
   "pygments_lexer": "ipython3",
   "version": "3.13.5"
  }
 },
 "nbformat": 4,
 "nbformat_minor": 5
}
